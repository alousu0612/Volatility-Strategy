{
 "cells": [
  {
   "cell_type": "code",
   "execution_count": null,
   "metadata": {},
   "outputs": [],
   "source": [
    "def vol_pred(data, n_test, lags=7, quantile=85) -> bool:\n",
    "    \n",
    "    train, test = data[:-n_test], data[-n_test:] # n_test=len(data) * 0.1\n",
    "    model = arch.arch_model(train, mean='AR', vol='GARCH', lags=lags, p=1, q=1)\n",
    "    model_fit = model.fit()\n",
    "    \n",
    "    ini = model_fit.resid[-lag:]\n",
    "    a = np.array(model_fit.params[1:8])\n",
    "    w = a[::-1]\n",
    "    for i in range(n_test):\n",
    "        new = test[i] - (model_fit.params[0] + w.dot(ini[-lag:]))\n",
    "        ini = np.append(ini, new)\n",
    "    at_pre = ini[-n_test:]\n",
    "    at_pre2 = at_pre**2\n",
    "    \n",
    "    ini2 = model_fit.conditional_volatility[-2:]\n",
    "    for i in range(n_test):\n",
    "        new = model_fit.params['omega'] + model_fit.params['alpha[1]'] * at_pre2[i] + model_fit.params['beta[1]'] * ini2[-1]\n",
    "        ini2 = np.append(ini2, new)\n",
    "    vol_pre = ini2[-n_test]\n",
    "    \n",
    "    return vol_pre > np.percentile(model_fit.conditional_volatility[lags:], q=quantile)"
   ]
  },
  {
   "cell_type": "code",
   "execution_count": 2,
   "metadata": {},
   "outputs": [],
   "source": [
    "t = {}\n",
    "t['a']= 0"
   ]
  },
  {
   "cell_type": "code",
   "execution_count": 3,
   "metadata": {},
   "outputs": [
    {
     "data": {
      "text/plain": [
       "{'a': 0}"
      ]
     },
     "execution_count": 3,
     "metadata": {},
     "output_type": "execute_result"
    }
   ],
   "source": [
    "t"
   ]
  },
  {
   "cell_type": "code",
   "execution_count": null,
   "metadata": {},
   "outputs": [],
   "source": []
  }
 ],
 "metadata": {
  "kernelspec": {
   "display_name": "Python 3",
   "language": "python",
   "name": "python3"
  },
  "language_info": {
   "codemirror_mode": {
    "name": "ipython",
    "version": 3
   },
   "file_extension": ".py",
   "mimetype": "text/x-python",
   "name": "python",
   "nbconvert_exporter": "python",
   "pygments_lexer": "ipython3",
   "version": "3.6.4"
  }
 },
 "nbformat": 4,
 "nbformat_minor": 2
}
